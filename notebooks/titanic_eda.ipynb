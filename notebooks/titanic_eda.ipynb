{
 "cells": [
  {
   "cell_type": "markdown",
   "id": "7a3f42e0",
   "metadata": {},
   "source": [
    "# 🧠 Análise Exploratória de Dados - Titanic\n",
    "Este notebook analisa o famoso dataset de sobrevivência do Titanic."
   ]
  },
  {
   "cell_type": "code",
   "execution_count": null,
   "id": "c17b04ec",
   "metadata": {},
   "outputs": [],
   "source": [
    "import pandas as pd\n",
    "import seaborn as sns\n",
    "import matplotlib.pyplot as plt\n",
    "\n",
    "sns.set(style='whitegrid')"
   ]
  },
  {
   "cell_type": "code",
   "execution_count": null,
   "id": "dc41a6d5",
   "metadata": {},
   "outputs": [],
   "source": [
    "# Carregar dataset\n",
    "url = 'https://raw.githubusercontent.com/datasciencedojo/datasets/master/titanic.csv'\n",
    "df = pd.read_csv(url)\n",
    "df.head()"
   ]
  },
  {
   "cell_type": "code",
   "execution_count": null,
   "id": "bc8a4c4f",
   "metadata": {},
   "outputs": [],
   "source": [
    "# Informações gerais\n",
    "df.info()"
   ]
  },
  {
   "cell_type": "code",
   "execution_count": null,
   "id": "35ce98bb",
   "metadata": {},
   "outputs": [],
   "source": [
    "# Estatísticas descritivas\n",
    "df.describe()"
   ]
  },
  {
   "cell_type": "code",
   "execution_count": null,
   "id": "bca20758",
   "metadata": {},
   "outputs": [],
   "source": [
    "# Contagem de sobreviventes\n",
    "sns.countplot(x='Survived', data=df)\n",
    "plt.title('Distribuição de Sobreviventes')\n",
    "plt.show()"
   ]
  },
  {
   "cell_type": "code",
   "execution_count": null,
   "id": "eaf83277",
   "metadata": {},
   "outputs": [],
   "source": [
    "# Sobrevivência por sexo\n",
    "sns.countplot(x='Sex', hue='Survived', data=df)\n",
    "plt.title('Sobrevivência por Sexo')\n",
    "plt.show()"
   ]
  },
  {
   "cell_type": "code",
   "execution_count": null,
   "id": "6b87451d",
   "metadata": {},
   "outputs": [],
   "source": [
    "# Sobrevivência por classe\n",
    "sns.countplot(x='Pclass', hue='Survived', data=df)\n",
    "plt.title('Sobrevivência por Classe')\n",
    "plt.show()"
   ]
  },
  {
   "cell_type": "code",
   "execution_count": null,
   "id": "6593dab8",
   "metadata": {},
   "outputs": [],
   "source": [
    "# Distribuição de idade por sobrevivência\n",
    "sns.histplot(data=df, x='Age', hue='Survived', kde=True, bins=30)\n",
    "plt.title('Distribuição de Idade vs Sobrevivência')\n",
    "plt.show()"
   ]
  },
  {
   "cell_type": "code",
   "execution_count": null,
   "id": "f06f2afc",
   "metadata": {},
   "outputs": [],
   "source": [
    "# Correlação entre variáveis numéricas\n",
    "sns.heatmap(df.corr(numeric_only=True), annot=True, cmap='Blues')\n",
    "plt.title('Correlação entre Variáveis')\n",
    "plt.show()"
   ]
  },
  {
   "cell_type": "markdown",
   "id": "3138557b",
   "metadata": {},
   "source": [
    "**Conclusões:**\n",
    "- Mulheres tiveram maior taxa de sobrevivência\n",
    "- Passageiros da 1ª classe sobreviveram mais\n",
    "- Crianças pequenas também tiveram vantagem\n"
   ]
  }
 ],
 "metadata": {},
 "nbformat": 4,
 "nbformat_minor": 5
}
